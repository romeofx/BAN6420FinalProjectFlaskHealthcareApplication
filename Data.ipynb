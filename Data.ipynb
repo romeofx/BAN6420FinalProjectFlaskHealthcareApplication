{
 "cells": [
  {
   "cell_type": "code",
   "execution_count": 14,
   "id": "fd218dfa-b777-4e80-a0cd-342c39e1d9cc",
   "metadata": {},
   "outputs": [
    {
     "data": {
      "text/html": [
       "<div>\n",
       "<style scoped>\n",
       "    .dataframe tbody tr th:only-of-type {\n",
       "        vertical-align: middle;\n",
       "    }\n",
       "\n",
       "    .dataframe tbody tr th {\n",
       "        vertical-align: top;\n",
       "    }\n",
       "\n",
       "    .dataframe thead th {\n",
       "        text-align: right;\n",
       "    }\n",
       "</style>\n",
       "<table border=\"1\" class=\"dataframe\">\n",
       "  <thead>\n",
       "    <tr style=\"text-align: right;\">\n",
       "      <th></th>\n",
       "      <th>id</th>\n",
       "      <th>name</th>\n",
       "      <th>age</th>\n",
       "      <th>gender</th>\n",
       "      <th>total_income</th>\n",
       "      <th>utilities</th>\n",
       "      <th>entertainment</th>\n",
       "      <th>school_fees</th>\n",
       "      <th>shopping</th>\n",
       "      <th>healthcare</th>\n",
       "    </tr>\n",
       "  </thead>\n",
       "  <tbody>\n",
       "    <tr>\n",
       "      <th>0</th>\n",
       "      <td>1</td>\n",
       "      <td>texter</td>\n",
       "      <td>23</td>\n",
       "      <td>Female</td>\n",
       "      <td>23</td>\n",
       "      <td>23333</td>\n",
       "      <td>223</td>\n",
       "      <td>332</td>\n",
       "      <td>2223</td>\n",
       "      <td>223</td>\n",
       "    </tr>\n",
       "  </tbody>\n",
       "</table>\n",
       "</div>"
      ],
      "text/plain": [
       "   id    name age  gender total_income  utilities  entertainment  school_fees  \\\n",
       "0   1  texter  23  Female           23      23333            223          332   \n",
       "\n",
       "   shopping  healthcare  \n",
       "0      2223         223  "
      ]
     },
     "execution_count": 14,
     "metadata": {},
     "output_type": "execute_result"
    }
   ],
   "source": [
    "import sqlite3\n",
    "import pandas as pd\n",
    "import os\n",
    "\n",
    "# Set the same DB path used in Flask\n",
    "project_dir = r\"C:\\Users\\User\\Desktop\\BAN6420FinalProjectFlaskHealthcareApplication\"\n",
    "DB_PATH = os.path.join(project_dir, \"data\", \"Survey.db\")\n",
    "\n",
    "# Connect to the correct database\n",
    "conn = sqlite3.connect(DB_PATH)\n",
    "\n",
    "# Load data\n",
    "df = pd.read_sql_query(\"SELECT * FROM participant\", conn)\n",
    "\n",
    "conn.close()\n",
    "df\n"
   ]
  },
  {
   "cell_type": "code",
   "execution_count": null,
   "id": "9e820008-1903-48ab-97ef-90e5813f4770",
   "metadata": {},
   "outputs": [],
   "source": []
  }
 ],
 "metadata": {
  "kernelspec": {
   "display_name": "Python 3 (ipykernel)",
   "language": "python",
   "name": "python3"
  },
  "language_info": {
   "codemirror_mode": {
    "name": "ipython",
    "version": 3
   },
   "file_extension": ".py",
   "mimetype": "text/x-python",
   "name": "python",
   "nbconvert_exporter": "python",
   "pygments_lexer": "ipython3",
   "version": "3.13.5"
  }
 },
 "nbformat": 4,
 "nbformat_minor": 5
}
